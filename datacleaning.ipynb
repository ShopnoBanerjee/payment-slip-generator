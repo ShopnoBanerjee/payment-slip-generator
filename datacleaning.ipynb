{
 "cells": [
  {
   "cell_type": "code",
   "execution_count": null,
   "metadata": {},
   "outputs": [],
   "source": [
    "import pandas as pd\n",
    "import numpy as np\n",
    "\n",
    "df = pd.read_csv(\"salary_sheet.csv\")\n",
    "df.head()\n",
    "\n",
    "df = df.rename(columns={\"Name of the employees \":\"name\",\"ESI NO\":\"ESI no\"})\n",
    "df.head()"
   ]
  },
  {
   "cell_type": "code",
   "execution_count": null,
   "metadata": {},
   "outputs": [],
   "source": [
    "df.columns"
   ]
  },
  {
   "cell_type": "code",
   "execution_count": 3,
   "metadata": {},
   "outputs": [],
   "source": [
    "df_i = df[['Emp. Code', 'Name of the employees','Actual',]]\n",
    "\n",
    "df_p =df[['Basic', 'HRA ', 'conveyance', 'Washing',\n",
    "       'OT', 'TOTAL']]\n",
    "\n",
    "df_d= df[[  'P.T.', 'P.F.', 'ESI ','Adv.', 'Total.2']]"
   ]
  },
  {
   "cell_type": "code",
   "execution_count": null,
   "metadata": {},
   "outputs": [],
   "source": [
    "df_d.fillna(0)\n",
    "type(df_d[\"ESI \"][0])\n",
    "df_d.head()"
   ]
  },
  {
   "cell_type": "code",
   "execution_count": 5,
   "metadata": {},
   "outputs": [],
   "source": [
    "# df_d[\"Adv.\"]=df_d[\"Adv.\"].apply(float)\n",
    "# df_d[\"ESI \"]=df_d[\"ESI \"].apply(float)\n",
    "# df_d[\"P.F.\"]=df_d[\"P.F.\"].apply(float)\n",
    "# df_d[\"P.T.\"]=df_d[\"P.T.\"].apply(float)\n",
    "# df_d[\"Total.2\"]=df_d[\"Total.2\"].apply(float)\n",
    "# df_d\n"
   ]
  },
  {
   "cell_type": "code",
   "execution_count": null,
   "metadata": {},
   "outputs": [],
   "source": [
    "df_d.loc[0:4,(\"ESI \")]=0\n",
    "df_d"
   ]
  },
  {
   "cell_type": "code",
   "execution_count": null,
   "metadata": {},
   "outputs": [],
   "source": [
    "\n",
    "\n",
    "df_d[\"Total.2\"]=df_d.loc[:,(\"Total.2\")].str.replace(\",\",'')\n"
   ]
  },
  {
   "cell_type": "code",
   "execution_count": 8,
   "metadata": {},
   "outputs": [
    {
     "data": {
      "text/plain": [
       "pandas.core.series.Series"
      ]
     },
     "execution_count": 8,
     "metadata": {},
     "output_type": "execute_result"
    }
   ],
   "source": [
    "type(df_d.loc[0:,(\"ESI \")])"
   ]
  },
  {
   "cell_type": "code",
   "execution_count": null,
   "metadata": {},
   "outputs": [],
   "source": [
    "df_d"
   ]
  },
  {
   "cell_type": "code",
   "execution_count": null,
   "metadata": {},
   "outputs": [],
   "source": [
    "df=df[['Emp. Code', 'Name of the employees','Actual','Basic', 'HRA ', 'conveyance', 'Washing',\n",
    "       'OT', 'TOTAL','P.T.', 'P.F.', 'ESI ','Adv.', 'Total.2']]\n",
    "df=df.astype(str)\n",
    "df"
   ]
  },
  {
   "cell_type": "code",
   "execution_count": null,
   "metadata": {},
   "outputs": [],
   "source": [
    "\n",
    "\n",
    "columns = [['Emp. Code', 'Name of the employees','Actual','Basic', 'HRA ', 'conveyance', 'Washing',\n",
    "       'OT', 'TOTAL','P.T.', 'P.F.', 'ESI ','Adv.', 'Total.2']]\n",
    "\n",
    "listy=[]\n",
    "for index, row in df.iterrows():\n",
    "    words=\" \"\n",
    "    list=[]\n",
    "    for col in columns:\n",
    "\n",
    "        words = words + ' '.join(row[col])+' '\n",
    "        list=words.split()\n",
    "        listy.append(list)\n",
    "        print(list)\n",
    "\n",
    "print(listy)\n",
    "\n",
    "    \n",
    "    # for col in genre:\n",
    "    #     row[col] = row[col].replace('[', '').replace(']', '').replace('\\'', '')\n",
    "    #     row[col] = row[col].replace(',', ' ')\n",
    "    #     words = words + ''.join(row[col])+' '\n",
    "    # for col in name:\n",
    "    #     row[col] = row[col].replace(',', ' ')\n",
    "    #     words = words + ' '.join(row[col])+' '\n",
    "\n",
    "    # for col in keyword:\n",
    "    #     words = words + ' '.join(row[col])+ ' '\n",
    "    # for col in prod:    \n",
    "    #     row[col] = row[col].replace('[', '').replace(']', '').replace('\\'', '')\n",
    "    # for col in scores:\n",
    "    #     words = words + str(int(row[col]))\n",
    "    # df.at[index,'bag_of_words'] = words.lower()\n",
    "# df.head()"
   ]
  }
 ],
 "metadata": {
  "kernelspec": {
   "display_name": ".venv",
   "language": "python",
   "name": "python3"
  },
  "language_info": {
   "codemirror_mode": {
    "name": "ipython",
    "version": 3
   },
   "file_extension": ".py",
   "mimetype": "text/x-python",
   "name": "python",
   "nbconvert_exporter": "python",
   "pygments_lexer": "ipython3",
   "version": "3.12.3"
  }
 },
 "nbformat": 4,
 "nbformat_minor": 2
}
